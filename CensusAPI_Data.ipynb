{
 "cells": [
  {
   "cell_type": "markdown",
   "id": "fa29803d-99ec-4120-93de-30ef389a8d98",
   "metadata": {},
   "source": [
    "### Census Data API:\n",
    "\n",
    "#### Getting your Census API Key\n",
    "\n",
    "Go to: https://www.census.gov/data/developers/about/terms-of-service.html\n",
    "\n",
    "Scroll down until you see (or click here):\n",
    "\n",
    "<a href=\"https://api.census.gov/data/key_signup.html\"><img src=\"images/CensusAPI_Key.png\" width=\"150\" height=\"150\"></a>\n",
    "\n",
    "Follow that path then enter an Organization Name and Email.\n",
    "\n",
    "You will quickly receive an email with a confirmation of your request, including an API Key and a link to activate it. \n",
    "\n",
    "Click the link to activate the key, store your key in a text file (for consistency we named it CensusAPI_key.txt, which we will be using throughout this project) and save your email to access it in the future in case you lose this file.\n",
    "\n",
    "\n",
    "#### Begin using the API\n",
    "\n",
    "Read your API key from the text file and store it in a variable\n",
    "\n",
    "The query URL will always start with: \"https://api.census.gov/data\"\n",
    "\n",
    "We then add the year, in this case 2020\n",
    "\n",
    "Search for variable names here: https://api.census.gov/data/2022/acs/acs5/variables.html\n",
    "\n",
    "To check, we'll see the total male and female populations under 5, these are:\n",
    "\n",
    "    > B01001_003E - Estimate!!Total:!!Male:!!Under 5 years\n",
    "    \n",
    "    > B01001_027E - Estimate!!Total:!!Female:!!Under 5 years\n",
    "\n",
    "We'll use a census tracts near UChicago 4107 for the first request."
   ]
  },
  {
   "cell_type": "code",
   "execution_count": 64,
   "id": "d9b3820c-8a49-4cd5-a335-3750d0ea444c",
   "metadata": {},
   "outputs": [],
   "source": [
    "import requests\n",
    "\n",
    "CensusAPI_fn = \"CensusAPI_key.txt\"\n",
    "\n",
    "with open(CensusAPI_fn, \"r\") as file:\n",
    "    api_key = file.readline().strip()\n",
    "    \n",
    "host = \"https://api.census.gov/data\"\n",
    "dataset = \"acs/acs5\"\n",
    "\n",
    "year = \"2022\""
   ]
  },
  {
   "cell_type": "code",
   "execution_count": 67,
   "id": "dfb55791-0b7c-4b08-bbf6-f226eb22321b",
   "metadata": {},
   "outputs": [],
   "source": [
    "geography = 'TRACT:410700'\n",
    "state = '17'  # Illinois state code\n",
    "county = '031'  # Cook County code\n",
    "\n",
    "variables = \"NAME,B01001_003E,B01001_027E\"\n",
    "\n",
    "# Construct the API URL\n",
    "url = f'{host}/{year}/{dataset}?get={variables}&for={geography}&in=state:{state}+county:{county}&key={api_key}'\n",
    "\n",
    "response = requests.get(url)\n",
    "data_4107 = response.json()"
   ]
  },
  {
   "cell_type": "code",
   "execution_count": 68,
   "id": "f8c98ef9-064e-401f-b34b-46fde4dc725c",
   "metadata": {},
   "outputs": [
    {
     "data": {
      "text/plain": [
       "[['NAME', 'B01001_003E', 'B01001_027E', 'state', 'county', 'tract'],\n",
       " ['Census Tract 4107; Cook County; Illinois',\n",
       "  '0',\n",
       "  '34',\n",
       "  '17',\n",
       "  '031',\n",
       "  '410700']]"
      ]
     },
     "execution_count": 68,
     "metadata": {},
     "output_type": "execute_result"
    }
   ],
   "source": [
    "data_4107"
   ]
  },
  {
   "cell_type": "markdown",
   "id": "58997347-db68-4fa2-b90e-2852f7f43f06",
   "metadata": {},
   "source": [
    "#### Illinois tract level data\n",
    "\n",
    "This worked, we can move on to grabbing the data for Illinois at the tract level.\n",
    "\n",
    "We'll also see which other variables are necessary for our analysis. \n",
    "\n",
    "We wanted some "
   ]
  },
  {
   "cell_type": "code",
   "execution_count": null,
   "id": "12b4058e-ee69-46ed-9c62-5e34911edb8f",
   "metadata": {},
   "outputs": [],
   "source": [
    "geography = 'TRACT:*'\n",
    "state = '17'  # Illinois state code\n",
    "\n",
    "variables = \"NAME,B01001_003E,B01001_027E\"\n",
    "\n",
    "# Construct the API URL\n",
    "url = f'{host}/{year}/{dataset}?get={variables}&for={geography}&in=state:{state}&key={api_key}'\n",
    "\n",
    "response = requests.get(url)\n",
    "data = response.json()"
   ]
  },
  {
   "cell_type": "code",
   "execution_count": null,
   "id": "be68bd4a-17a5-4cba-baa2-984553ddc69f",
   "metadata": {},
   "outputs": [],
   "source": []
  }
 ],
 "metadata": {
  "kernelspec": {
   "display_name": "Python 3 (ipykernel)",
   "language": "python",
   "name": "python3"
  },
  "language_info": {
   "codemirror_mode": {
    "name": "ipython",
    "version": 3
   },
   "file_extension": ".py",
   "mimetype": "text/x-python",
   "name": "python",
   "nbconvert_exporter": "python",
   "pygments_lexer": "ipython3",
   "version": "3.10.9"
  }
 },
 "nbformat": 4,
 "nbformat_minor": 5
}
