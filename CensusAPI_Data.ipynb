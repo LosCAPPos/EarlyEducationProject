{
 "cells": [
  {
   "cell_type": "markdown",
   "id": "fa29803d-99ec-4120-93de-30ef389a8d98",
   "metadata": {},
   "source": [
    "### Census Data API:\n",
    "\n",
    "#### Getting your Census API Key\n",
    "\n",
    "Go to: https://www.census.gov/data/developers/about/terms-of-service.html\n",
    "\n",
    "Scroll down until you see (or click here):\n",
    "\n",
    "<a href=\"https://api.census.gov/data/key_signup.html\"><img src=\"images/CensusAPI_Key.png\" width=\"150\" height=\"150\"></a>\n",
    "\n",
    "Follow that path then enter an Organization Name and Email.\n",
    "\n",
    "You will quickly receive an email with a confirmation of your request, including an API Key and a link to activate it. \n",
    "\n",
    "Click the link to activate the key, store your key in a text file (for consistency we named it CensusAPI_key.txt, which we will be using throughout this project) and save your email to access it in the future in case you lose this file.\n",
    "\n",
    "\n",
    "#### Begin using the API\n",
    "\n",
    "Read your API key from the text file and store it in a variable\n",
    "\n",
    "The query URL will always start with: \"https://api.census.gov/data\"\n",
    "\n",
    "We then add the year, in this case 2020\n",
    "\n",
    "Search for variable names here: https://api.census.gov/data/2022/acs/acs5/variables.html\n",
    "\n",
    "To check, we'll see the total male and female populations under 5, these are:\n",
    "\n",
    "- B01001_003E - Estimate!!Total:!!Male:!!Under 5 years\n",
    "    \n",
    "- B01001_027E - Estimate!!Total:!!Female:!!Under 5 years\n",
    "\n",
    "We'll use a census tracts near UChicago 4107 for the first request."
   ]
  },
  {
   "cell_type": "code",
   "execution_count": 1,
   "id": "d9b3820c-8a49-4cd5-a335-3750d0ea444c",
   "metadata": {},
   "outputs": [],
   "source": [
    "import requests\n",
    "\n",
    "CensusAPI_fn = \"CensusAPI_key.txt\"\n",
    "\n",
    "with open(CensusAPI_fn, \"r\") as file:\n",
    "    api_key = file.readline().strip()\n",
    "    \n",
    "host = \"https://api.census.gov/data\"\n",
    "dataset = \"acs/acs5\"\n",
    "\n",
    "year = \"2022\""
   ]
  },
  {
   "cell_type": "code",
   "execution_count": 2,
   "id": "dfb55791-0b7c-4b08-bbf6-f226eb22321b",
   "metadata": {},
   "outputs": [],
   "source": [
    "geography = 'TRACT:410700'\n",
    "state = '17'  # Illinois state code\n",
    "county = '031'  # Cook County code\n",
    "\n",
    "variables = \"NAME,B01001_003E,B01001_027E\"\n",
    "\n",
    "# Construct the API URL\n",
    "url = f'{host}/{year}/{dataset}?get={variables}&for={geography}&in=state:{state}+county:{county}&key={api_key}'\n",
    "\n",
    "response = requests.get(url)\n",
    "data_4107 = response.json()"
   ]
  },
  {
   "cell_type": "code",
   "execution_count": 3,
   "id": "f8c98ef9-064e-401f-b34b-46fde4dc725c",
   "metadata": {},
   "outputs": [
    {
     "data": {
      "text/plain": [
       "[['NAME', 'B01001_003E', 'B01001_027E', 'state', 'county', 'tract'],\n",
       " ['Census Tract 4107; Cook County; Illinois',\n",
       "  '0',\n",
       "  '34',\n",
       "  '17',\n",
       "  '031',\n",
       "  '410700']]"
      ]
     },
     "execution_count": 3,
     "metadata": {},
     "output_type": "execute_result"
    }
   ],
   "source": [
    "data_4107"
   ]
  },
  {
   "cell_type": "code",
   "execution_count": 4,
   "id": "e900ef9d-3fe7-433a-ad9f-5d31aa6525d3",
   "metadata": {},
   "outputs": [
    {
     "data": {
      "text/plain": [
       "'https://api.census.gov/data/2022/acs/acs5?get=NAME,B01001_003E,B01001_027E&for=TRACT:410700&in=state:17+county:031&key=a3b4a5293e7bb84d85a7caa8bae69653be047e10'"
      ]
     },
     "execution_count": 4,
     "metadata": {},
     "output_type": "execute_result"
    }
   ],
   "source": [
    "url"
   ]
  },
  {
   "cell_type": "markdown",
   "id": "58997347-db68-4fa2-b90e-2852f7f43f06",
   "metadata": {},
   "source": [
    "#### Illinois tract level data\n",
    "\n",
    "This worked, we can move on to grabbing the data for Illinois at the tract level.\n",
    "\n",
    "We'll also see which other variables are necessary for our analysis. \n",
    "\n",
    "We wanted some socioeconomic data, including whether it is a majority minority tract, the poverty rate, the homeownership rate, mobility, etc. \n",
    "\n",
    "Here are the codes we will use to retreive this:\n",
    "\n",
    "#### Children under 5\n",
    "- B01001_003E - Males under 5\n",
    "\n",
    "- B01001_027E - Female under 5 years\n",
    "\n",
    "#### Demographics\n",
    "- B02001_001E - Total Population\n",
    "\n",
    "- B02001_002E - White Alone\n",
    "\n",
    "- B02001_003E - Black Alone\n",
    "\n",
    "- B02001_005E - Asian Alone\n",
    "\n",
    "- B03001_003E - Hispanic Alone\n",
    "\n",
    "\n",
    "#### Income/Poverty Status\n",
    "- B17001_002E - Poverty status\n",
    "\n",
    "- B19013_001E - Median Income\n",
    "\n",
    "#### Home Ownership rates\n",
    "\n",
    "- B25002_002E - Total occupied houses\n",
    "\n",
    "- B25003_002E - Home owner occupied houses\n",
    "\n",
    "\n",
    "#### Mobility\n",
    "- B07003_004E - Lived in same house 1 Year ago\n",
    "\n",
    "#### Educational Attainment\n",
    "- B15003_001E: Total population age 25 and over\n",
    "\n",
    "- B16010_002E: Population 25 Years and over with less than HS\n",
    "\n",
    "- B16010_041E: Population 25 Years and over with at least Bachelor"
   ]
  },
  {
   "cell_type": "code",
   "execution_count": 27,
   "id": "12b4058e-ee69-46ed-9c62-5e34911edb8f",
   "metadata": {},
   "outputs": [],
   "source": [
    "geography = 'TRACT:*'\n",
    "state = '17'  # Illinois state code\n",
    "\n",
    "variables = \"NAME,B01001_003E,B01001_027E,B02001_001E,B02001_002E,B02001_003E,B02001_005E,B03001_003E,B17001_002E,B19013_001E,B25002_002E,B25003_002E,B07003_004E,B15003_001E,B16010_002E,B16010_041E\"\n",
    "\n",
    "# Construct the API URL\n",
    "url = f'{host}/{year}/{dataset}?get={variables}&for={geography}&in=state:{state}&key={api_key}'\n",
    "\n",
    "response = requests.get(url)\n",
    "data = response.json()"
   ]
  },
  {
   "cell_type": "code",
   "execution_count": 28,
   "id": "be68bd4a-17a5-4cba-baa2-984553ddc69f",
   "metadata": {},
   "outputs": [
    {
     "data": {
      "text/plain": [
       "[['NAME',\n",
       "  'B01001_003E',\n",
       "  'B01001_027E',\n",
       "  'B02001_001E',\n",
       "  'B02001_002E',\n",
       "  'B02001_003E',\n",
       "  'B02001_005E',\n",
       "  'B03001_003E',\n",
       "  'B17001_002E',\n",
       "  'B19013_001E',\n",
       "  'B25002_002E',\n",
       "  'B25003_002E',\n",
       "  'B07003_004E',\n",
       "  'B15003_001E',\n",
       "  'B16010_002E',\n",
       "  'B16010_041E',\n",
       "  'state',\n",
       "  'county',\n",
       "  'tract'],\n",
       " ['Census Tract 1; Adams County; Illinois',\n",
       "  '112',\n",
       "  '121',\n",
       "  '4509',\n",
       "  '4028',\n",
       "  '263',\n",
       "  '60',\n",
       "  '0',\n",
       "  '440',\n",
       "  '61595',\n",
       "  '2377',\n",
       "  '2055',\n",
       "  '3827',\n",
       "  '3443',\n",
       "  '341',\n",
       "  '810',\n",
       "  '17',\n",
       "  '001',\n",
       "  '000100'],\n",
       " ['Census Tract 2.01; Adams County; Illinois',\n",
       "  '49',\n",
       "  '61',\n",
       "  '1968',\n",
       "  '1777',\n",
       "  '134',\n",
       "  '9',\n",
       "  '32',\n",
       "  '192',\n",
       "  '44583',\n",
       "  '887',\n",
       "  '707',\n",
       "  '1857',\n",
       "  '1455',\n",
       "  '141',\n",
       "  '390',\n",
       "  '17',\n",
       "  '001',\n",
       "  '000201'],\n",
       " ['Census Tract 2.02; Adams County; Illinois',\n",
       "  '54',\n",
       "  '31',\n",
       "  '2473',\n",
       "  '2171',\n",
       "  '110',\n",
       "  '35',\n",
       "  '51',\n",
       "  '257',\n",
       "  '66472',\n",
       "  '991',\n",
       "  '679',\n",
       "  '2025',\n",
       "  '1491',\n",
       "  '106',\n",
       "  '470',\n",
       "  '17',\n",
       "  '001',\n",
       "  '000202'],\n",
       " ['Census Tract 4; Adams County; Illinois',\n",
       "  '145',\n",
       "  '63',\n",
       "  '3428',\n",
       "  '2829',\n",
       "  '353',\n",
       "  '0',\n",
       "  '54',\n",
       "  '718',\n",
       "  '42413',\n",
       "  '1331',\n",
       "  '678',\n",
       "  '2761',\n",
       "  '2441',\n",
       "  '275',\n",
       "  '232',\n",
       "  '17',\n",
       "  '001',\n",
       "  '000400']]"
      ]
     },
     "execution_count": 28,
     "metadata": {},
     "output_type": "execute_result"
    }
   ],
   "source": [
    "data[:5]"
   ]
  },
  {
   "cell_type": "code",
   "execution_count": 29,
   "id": "4bb26242-18dd-45cf-b3a1-c48696a37cb2",
   "metadata": {},
   "outputs": [],
   "source": [
    "col_names = [\"DETAILS\",\n",
    "             \"MALES_UNDER5\",\n",
    "             \"FEMALES_UNDER5\",\n",
    "             \"TOTPOP\",\n",
    "             \"WHITE\",\n",
    "             \"BLACK\",\n",
    "             \"ASIAN\",\n",
    "             \"HISPANIC\",\n",
    "             \"BELOW_POVERTY_LINE\",\n",
    "             \"MEDIAN_INCOME\",\n",
    "             \"TOTAL_OCCUPIED_HOUSES\",\n",
    "             \"HOMEOWNER_OCCUPIED_HOUSES\",\n",
    "             \"SAME_HOUSE_AS_LAST_YEAR\",\n",
    "             \"POP_OVER25\",\n",
    "             \"LESS_THAN_HS\",\n",
    "             \"BACHELOR_OR_GREATER\",\n",
    "             \"STATE\",\n",
    "             \"COUNTY\",\n",
    "             \"TRACT\"]\n"
   ]
  },
  {
   "cell_type": "code",
   "execution_count": 30,
   "id": "bf97e893-ce2c-41a5-883a-9fb3e5edbdc1",
   "metadata": {},
   "outputs": [],
   "source": [
    "import pandas as pd\n",
    "\n",
    "df = pd.DataFrame(data[1:], columns=col_names)\n",
    "file_path = \"data/Census_data_raw.csv\"\n",
    "df.to_csv(file_path, index=False)"
   ]
  },
  {
   "cell_type": "code",
   "execution_count": null,
   "id": "4929ff29-9fe0-4e1a-afb1-7265396537b2",
   "metadata": {},
   "outputs": [],
   "source": []
  }
 ],
 "metadata": {
  "kernelspec": {
   "display_name": "Python 3 (ipykernel)",
   "language": "python",
   "name": "python3"
  },
  "language_info": {
   "codemirror_mode": {
    "name": "ipython",
    "version": 3
   },
   "file_extension": ".py",
   "mimetype": "text/x-python",
   "name": "python",
   "nbconvert_exporter": "python",
   "pygments_lexer": "ipython3",
   "version": "3.10.9"
  }
 },
 "nbformat": 4,
 "nbformat_minor": 5
}
